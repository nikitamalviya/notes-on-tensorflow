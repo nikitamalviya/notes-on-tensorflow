{
 "cells": [
  {
   "cell_type": "code",
   "execution_count": 1,
   "metadata": {},
   "outputs": [],
   "source": [
    "import tensorflow as tf\n",
    "import numpy as np"
   ]
  },
  {
   "cell_type": "markdown",
   "metadata": {},
   "source": [
    "## Save TF logs\n",
    "\n",
    "**TF_CPP_MIN_LOG_LEVEL' = 3**\n",
    "\n",
    "0 - default\n",
    "\n",
    "1 - Info  & warning\n",
    "\n",
    "3 - to print INFO, WARNING, and ERROR (logs)"
   ]
  },
  {
   "cell_type": "code",
   "execution_count": 14,
   "metadata": {},
   "outputs": [],
   "source": [
    "import os\n",
    "os.environ['TF_CPP_MIN_LOG_LEVEL'] = '3'"
   ]
  },
  {
   "cell_type": "markdown",
   "metadata": {},
   "source": [
    "## tf.placeholder :\n",
    "\n",
    "var = tf.placeholder(dtype, shape=None, name=None)\n",
    "\n",
    "return : A Tensor that may be used as a handle for feeding a value, but not evaluated directly.\n",
    "\n",
    "Inserts a placeholder for a tensor that will be always fed.\n",
    "\n",
    "#### Important : This sparse tensor will produce an error if evaluated. Its value must be fed using the 'feed_dict' optional argument to :\n",
    "\n",
    "#### 1)  Session.run()\n",
    "\n",
    "#### 2) Tensor.eval()\n",
    "\n",
    "#### 3) or Operation.run() \n"
   ]
  },
  {
   "cell_type": "code",
   "execution_count": 35,
   "metadata": {},
   "outputs": [
    {
     "name": "stdout",
     "output_type": "stream",
     "text": [
      "\n",
      "Can't execute print(sess.run(y))  # ERROR: will fail because x was not fed.\n",
      "\n",
      "[[256.6363  255.8678  259.14847 ... 258.26315 263.1412  251.64508]\n",
      " [258.46945 255.74954 250.7579  ... 255.4925  260.5408  252.66284]\n",
      " [246.63448 251.98642 248.14177 ... 247.89966 258.2569  245.19122]\n",
      " ...\n",
      " [246.70215 244.92694 244.9447  ... 253.20427 250.85568 246.10928]\n",
      " [258.28192 257.1183  257.39594 ... 261.55978 263.57156 251.56071]\n",
      " [246.87756 239.96147 241.90071 ... 238.54813 244.32901 237.52194]]\n",
      "[[256.6363  255.8678  259.14847 ... 258.26315 263.1412  251.64508]\n",
      " [258.46945 255.74954 250.7579  ... 255.4925  260.5408  252.66284]\n",
      " [246.63448 251.98642 248.14177 ... 247.89966 258.2569  245.19122]\n",
      " ...\n",
      " [246.70215 244.92694 244.9447  ... 253.20427 250.85568 246.10928]\n",
      " [258.28192 257.1183  257.39594 ... 261.55978 263.57156 251.56071]\n",
      " [246.87756 239.96147 241.90071 ... 238.54813 244.32901 237.52194]]\n"
     ]
    }
   ],
   "source": [
    "tensor_shape = (1024, 1024)\n",
    "\n",
    "x = tf.placeholder(tf.float32, shape=tensor_shape)\n",
    "y = tf.matmul(x, x)\n",
    "\n",
    "with tf.Session() as sess:\n",
    "    try:\n",
    "        print(sess.run(y))  # ERROR: will fail because x was not fed.\n",
    "    except:\n",
    "        print(\"\\nCan't execute print(sess.run(y))  # ERROR: will fail because x was not fed.\\n\")\n",
    "    \n",
    "    rand_array = np.random.rand(tensor_shape[0], tensor_shape[1])\n",
    "    \n",
    "    # using Session.run()\n",
    "    print(sess.run(y, feed_dict={x: rand_array}))  # Will succeed.\n",
    "    \n",
    "    # using tensor.eval()\n",
    "    print(y.eval(feed_dict={x : rand_array}))\n",
    "    \n",
    "    # using operation.run()\n",
    "    "
   ]
  },
  {
   "cell_type": "markdown",
   "metadata": {},
   "source": [
    "## tf.sparse_placeholder : \n",
    "\n",
    "var = tf.sparse_placeholder(dtype, shape=None, name=None)\n",
    "\n",
    "return : A SparseTensor that may be used as a handle for feeding a value, but not evaluated directly.\n",
    "\n",
    "#### Important : This sparse tensor will produce an error if evaluated. Its value must be fed using the 'feed_dict' optional argument to :\n",
    "\n",
    "#### 1)  Session.run()\n",
    "\n",
    "#### 2) Tensor.eval()\n",
    "\n",
    "#### 3) or Operation.run() "
   ]
  },
  {
   "cell_type": "code",
   "execution_count": 64,
   "metadata": {},
   "outputs": [
    {
     "name": "stdout",
     "output_type": "stream",
     "text": [
      "\n",
      "Can't execute print(sess.run(y))  # ERROR: will fail because x was not fed.\n",
      "\n",
      "indices shape : (2, 3)\n",
      "values shape : (2,)\n",
      "shape's shape : (3,)\n",
      "\n",
      "3.0\n",
      "3.0\n",
      "3.0\n"
     ]
    }
   ],
   "source": [
    "x = tf.sparse_placeholder(tf.float32)\n",
    "y = tf.sparse_reduce_sum(x)\n",
    "\n",
    "with tf.Session() as sess:\n",
    "    try:\n",
    "        print(sess.run(y))  # ERROR: will fail because x was not fed.\n",
    "    except:\n",
    "        print(\"\\nCan't execute print(sess.run(y))  # ERROR: will fail because x was not fed.\\n\")\n",
    "        \n",
    "    indices = np.array([[3, 2, 0], [4, 5, 1]], dtype=np.int64)\n",
    "    print(f\"indices shape : {indices.shape}\")\n",
    "    values = np.array([1.0, 2.0], dtype=np.float32)\n",
    "    print(f\"values shape : {values.shape}\")\n",
    "    shape = np.array([7, 9, 2], dtype=np.int64)\n",
    "    print(f\"shape's shape : {shape.shape}\\n\")\n",
    "    \n",
    "    # Session.run ()\n",
    "    print(sess.run(y, feed_dict={\n",
    "        x: tf.SparseTensorValue(indices, values, shape)}))  # Will succeed.\n",
    "    \n",
    "    print(sess.run(y, feed_dict={\n",
    "        x: (indices, values, shape)}))  # Will succeed.\n",
    "    \n",
    "    # tensor.eval ()\n",
    "    sp = tf.SparseTensor(indices=indices, values=values, dense_shape=shape)\n",
    "    sp_value = sp.eval(session=sess)\n",
    "    \n",
    "    # operation.run()\n",
    "    print(sess.run(y, feed_dict={x: sp_value}))  # Will succeed."
   ]
  },
  {
   "cell_type": "markdown",
   "metadata": {},
   "source": [
    "## tf.placeholder_with_default\n",
    "\n",
    "tf.placeholder_with_default(input,shape,name=None)\n",
    "\n",
    "- input: A Tensor. The default value to produce when output is not fed.\n",
    "\n",
    "- shape: A tf.TensorShape or list of ints. The (possibly partial) shape of the tensor.\n",
    "\n",
    "- name: A name for the operation (optional).\n",
    "\n",
    "Returns:\n",
    "A Tensor. Has the same type as input."
   ]
  },
  {
   "cell_type": "code",
   "execution_count": null,
   "metadata": {},
   "outputs": [],
   "source": []
  },
  {
   "cell_type": "markdown",
   "metadata": {},
   "source": [
    "## tf.fill\n",
    "\n",
    "tf.fill(dims, value, name=None)\n",
    "\n",
    "- dims: A Tensor. Must be one of the following types: int32, int64. 1-D. Represents the shape of the output tensor.\n",
    "- value: A Tensor. 0-D (scalar). Value to fill the returned tensor.\n",
    "- name: A name for the operation (optional).\n",
    "\n",
    "\n",
    "Output tensor has shape [2, 3].\n",
    "\n",
    "- fill([2, 3], 9) ==> \n",
    "\n",
    "                     [[9, 9, 9]\n",
    "\n",
    "                     [9, 9, 9]]"
   ]
  },
  {
   "cell_type": "code",
   "execution_count": 75,
   "metadata": {},
   "outputs": [
    {
     "name": "stdout",
     "output_type": "stream",
     "text": [
      "[[10 10 10 10 10 10 10 10 10 10]\n",
      " [10 10 10 10 10 10 10 10 10 10]]\n"
     ]
    }
   ],
   "source": [
    "with tf.Session() as sess:\n",
    "    \n",
    "    x = tf.placeholder(tf.float32, shape=(2,10))\n",
    "    \n",
    "    width = 10\n",
    "    \n",
    "#     print(tf.shape(x).eval())\n",
    "    \n",
    "    var = tf.fill(tf.shape(x), width, name=\"y_len\")\n",
    "    \n",
    "    print(var.eval())"
   ]
  },
  {
   "cell_type": "markdown",
   "metadata": {},
   "source": [
    "## tf.contrib.layers.xavier_initializer\n",
    "\n",
    "tf.contrib.layers.xavier_initializer(uniform=True, seed=None, dtype=tf.float32)\n",
    "\n",
    "- uniform: Whether to use uniform or normal distributed random initialization.\n",
    "- seed: A Python integer. Used to create random seeds. See tf.set_random_seed for behavior.\n",
    "- dtype: The data type. Only floating point types are supported.\n",
    "\n",
    "\n",
    "Returns : An initializer for a weight matrix.\n",
    "\n",
    "\n",
    "This initializer is designed to keep the scale of the gradients roughly the same in all layers.\n",
    "\n",
    "In uniform distribution this ends up being the range: x = sqrt(6. / (in + out)); [-x, x] and for normal distribution a standard deviation of sqrt(2. / (in + out)) is used."
   ]
  },
  {
   "cell_type": "code",
   "execution_count": 2,
   "metadata": {
    "scrolled": true
   },
   "outputs": [
    {
     "name": "stdout",
     "output_type": "stream",
     "text": [
      "\n",
      "WARNING: The TensorFlow contrib module will not be included in TensorFlow 2.0.\n",
      "For more information, please see:\n",
      "  * https://github.com/tensorflow/community/blob/master/rfcs/20180907-contrib-sunset.md\n",
      "  * https://github.com/tensorflow/addons\n",
      "If you depend on functionality not listed there, please file an issue.\n",
      "\n"
     ]
    }
   ],
   "source": [
    "weight_initializer = tf.contrib.layers.xavier_initializer()"
   ]
  },
  {
   "cell_type": "code",
   "execution_count": null,
   "metadata": {},
   "outputs": [],
   "source": []
  }
 ],
 "metadata": {
  "kernelspec": {
   "display_name": "Python 3",
   "language": "python",
   "name": "python3"
  },
  "language_info": {
   "codemirror_mode": {
    "name": "ipython",
    "version": 3
   },
   "file_extension": ".py",
   "mimetype": "text/x-python",
   "name": "python",
   "nbconvert_exporter": "python",
   "pygments_lexer": "ipython3",
   "version": "3.6.9"
  }
 },
 "nbformat": 4,
 "nbformat_minor": 2
}
